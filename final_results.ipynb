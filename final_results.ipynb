{
  "cells": [
    {
      "metadata": {
        "_uuid": "177d590e09b78652bc4e1d7230996db4348766fc",
        "_cell_guid": "e0e692b0-da67-43b1-a4e3-ba9425d0637a",
        "collapsed": true,
        "trusted": false
      },
      "cell_type": "code",
      "source": "# This Python 3 environment comes with many helpful analytics libraries installed\n# It is defined by the kaggle/python docker image: https://github.com/kaggle/docker-python\n# For example, here's several helpful packages to load in \n\nimport numpy as np # linear algebra\nimport pandas as pd # data processing, CSV file I/O (e.g. pd.read_csv)\n\n# Input data files are available in the \"../input/\" directory.\n# For example, running this (by clicking run or pressing Shift+Enter) will list the files in the input directory\n\nfrom subprocess import check_output\nprint(check_output([\"ls\", \"../input\"]).decode(\"utf8\"))\n\nprint(check_output([\"ls\", \".\"]).decode(\"utf8\"))\n#print(check_output([\"mkdir\", \"figs\"]).decode(\"utf8\"))\nprint(check_output([\"ls\", \".\"]).decode(\"utf8\"))\nprint(check_output([\"ls\", \"./figs\"]).decode(\"utf8\"))\n# Any results you write to the current directory are saved as output.",
      "execution_count": null,
      "outputs": []
    },
    {
      "metadata": {
        "_uuid": "4dc6cd2f7227e5596ca812a6dca3db1f554f53d1",
        "_cell_guid": "00d91c19-10c2-411e-a864-5b126938568f",
        "collapsed": true,
        "trusted": false
      },
      "cell_type": "code",
      "source": "import numpy as np # linear algebra\nimport pandas as pd\nimport matplotlib.pyplot as plt\nimport seaborn as sns; sns.set()\nimport time",
      "execution_count": null,
      "outputs": []
    },
    {
      "metadata": {
        "_uuid": "100022723e8b873595e0d288d3c6ed7fc739e81d",
        "_cell_guid": "ec0c23ab-4dff-4775-96d2-c7172f23ba52",
        "collapsed": true,
        "trusted": false
      },
      "cell_type": "code",
      "source": "namefile_1 = \"../input/datainput1/sanfrancisco_incidents_summer_2014.csv\"\nanalysis_1 = pd.read_csv(namefile_1,  sep=',')\n\n\ntry:   \n    ind = pd.DatetimeIndex(analysis_1.Date)\n    analysis_1['Date'] = ind.date.astype('datetime64')\n    analysis_1['Time'] = ind.hour\nexcept Exception as exc:\n    print(\"Excepcion: {0}\".format(exc))\nfinally:\n    print(\"Data Format Conversion ......\")\n\nprint(\"#################################################\")    \nprint(\"#Table 1: Incidents by Category in San Francisco#\")\nprint(\"#################################################\")   \nby_date1 = analysis_1.pivot_table(values = 'IncidntNum', aggfunc='count',index = 'Date',  columns=['Category'],)\ncols= by_date1.columns\n\nfor col in range(len(cols)):\n    by_date1[cols[col]] = np.int16( by_date1[cols[col]])\n\n#print(by_date1.columns)\n#by_date1.sort_values('ROBBERY', ascending=False)    \nby_date1.head()\n\n\n",
      "execution_count": null,
      "outputs": []
    },
    {
      "metadata": {
        "_uuid": "299cc1ad517845bbf35c8ea44ac884b6845b4577",
        "_cell_guid": "b09a0712-9968-416d-9016-58383ec3d5fe",
        "collapsed": true,
        "trusted": false
      },
      "cell_type": "code",
      "source": "namefile_2 = \"../input/datainput2/seattle_incidents_summer_2014.csv\"\nanalysis_2 = pd.read_csv(namefile_2,  sep=',')\n\ntry:   \n    ind = pd.DatetimeIndex(analysis_2['Date Reported'])\n    analysis_2['Date Reported'] = ind.date.astype('datetime64')\nexcept Exception as exc:\n    print(\"Excepcion: {0}\".format(exc))\nfinally:\n    print(\"Data Format Conversion ......\")\nprint(\"##############################################\")    \nprint(\"# Table 1: Incidents by Category in Seatle   #\")\nprint(\"##############################################\")   \n\nby_date2 = analysis_2.pivot_table(values = 'RMS CDW ID', aggfunc='count',index = 'Date Reported',  columns=['Summarized Offense Description'],)\ncols= by_date2.columns\nfor col in range(len(cols)):\n    by_date2[cols[col]] = np.int16( by_date2[cols[col]])\n\n\n\n#by_date2_final = pd.DataFrame(columns=cols)    \n\n#for index in by_date2.index:\n    #if index.weekofyear <= 35 and index.weekofyear >= 22:\n        #record = pd.DataFrame(columns=cols)\n        #for col in range(len(cols)):\n            #record[cols[col]] = np.int16(by_date2[cols[col]])\n        \n        #by_date2_final = by_date2_final.append(record,ignore_index=True)\n\n#print(by_date2_final)\n\nby_date2.head()\n\n",
      "execution_count": null,
      "outputs": []
    },
    {
      "metadata": {
        "_uuid": "7800964ed48f1c9780521b18ef3b097be1c4290e",
        "_cell_guid": "c2dd9348-7a4c-4464-b7b6-8542f8db6070",
        "collapsed": true,
        "trusted": false
      },
      "cell_type": "code",
      "source": "import sys\nimport numpy as np # linear algebra\nimport pandas as pd\nimport matplotlib.pyplot as plt\nimport seaborn as sns; sns.set()\nimport time\nprint(\"#############################################################################\")\nprint(\"QUESTION 1 -How do incidents vary by time of day for either city\")\nprint(\"S.Francisco vs Seatle\")\nprint(\"#############################################################################\")  \n\n\ntry:   \n    namefile_1 = \"../input/datainput1/sanfrancisco_incidents_summer_2014.csv\"\n    analysis_1 = pd.read_csv(namefile_1,  sep=',')\n    ind1 = pd.DatetimeIndex(analysis_1.Time)\n    analysis_1.Time = ind1.hour\n    \n    namefile_2 = \"../input/datainput2/seattle_incidents_summer_2014.csv\"\n    analysis_2 = pd.read_csv(namefile_2,  sep=',')\n    ind2 = pd.DatetimeIndex(analysis_2['Date Reported'])\n    analysis_2['Date Reported'] = ind2.hour\n    \nexcept Exception as exc:\n    print(\"Excepcion: {0}\".format(exc))\nfinally:\n    print(\"Data Format Conversion ......\")\n\n   \n\nby_day1 = analysis_1.pivot_table(values = 'IncidntNum', aggfunc='count',index = 'Time',  columns=['Category'],)\ntable_1 = by_day1.iloc[:,[1,23,3,33,26]] \n\nby_day2 = analysis_2.pivot_table(values = 'RMS CDW ID', aggfunc='count',index = 'Date Reported',  columns=['Summarized Offense Description'],)\ntable_2 = by_day2.iloc[:,[1,36,4,46,38]] \n\ntry:    \n    color_cycle = plt.rcParams['axes.color_cycle']\n    fig, ax = plt.subplots(2, 1, figsize=(16, 8), sharex=True, sharey=True)\n    table_1.iloc[:, :5].plot(ax=ax[0],title='Incidents in San Francisco by Hours');\n    table_2.iloc[:, :5].plot(ax=ax[1],title='Incidents in Seatle by Hours');\n    fig.savefig('figs/Question1.png', bbox_inches='tight')    \n    \nexcept Exception as exception1:\n    print(\"Graphical plot exception: {0}\".format(exception1))\nfinally:\n    print(\"Results:\")\n\n\n\n",
      "execution_count": null,
      "outputs": []
    },
    {
      "metadata": {
        "_uuid": "6d471759febf80197370c83d90cbbaf3a67459f5",
        "_cell_guid": "b2ddb74b-48e2-4ca0-bf5e-6f2a4dad99cb",
        "collapsed": true,
        "trusted": false
      },
      "cell_type": "code",
      "source": "import sys\nimport numpy as np\nimport matplotlib.pyplot as plt\nfrom matplotlib.ticker import MaxNLocator\nfrom collections import namedtuple\nimport numpy as np # linear algebra\nimport pandas as pd # data processing, CSV file I/O (e.g. pd.read_csv)\n\ndef convert_to_array(table,incident):\n    col = 0\n    for index in [0, 1, 2, 3, 4]:\n        array[col] = table.iloc[index,incident]\n        col = col + 1\n    return array\n\n\nprint(\"#############################################################################\")\nprint(\"QUESTION 2 - Which incidents are most common in the evening\")\nprint(\"S.Francisco vs Seatle\")\nprint(\"#############################################################################\")\ntry:   \n    namefile_1 = \"../input/datainput1/sanfrancisco_incidents_summer_2014.csv\"\n    analysis_1 = pd.read_csv(namefile_1,  sep=',')\n    ind1 = pd.DatetimeIndex(analysis_1.Time)\n    analysis_1.Time = ind1.hour\n    \n    namefile_2 = \"../input/datainput2/seattle_incidents_summer_2014.csv\"\n    analysis_2 = pd.read_csv(namefile_2,  sep=',')\n    ind2 = pd.DatetimeIndex(analysis_2['Date Reported'])\n    analysis_2['Date Reported'] = ind2.hour\n    \nexcept Exception as exc:\n    print(\"Excepcion: {0}\".format(exc))\nfinally:\n    print(\"Data Format Conversion ......\")\n\n\n\nby_day1 = analysis_1.pivot_table(values = 'IncidntNum', aggfunc='count',index = 'Time',  columns=['Category'],)\ncols= by_day1.columns\nfor col in range(len(cols)):\n    by_day1[cols[col]] = np.int16(by_day1[cols[col]])\ntable_1 = by_day1.iloc[15:20,[1,23,3,33,26]] \n\nby_day2 = analysis_2.pivot_table(values = 'RMS CDW ID', aggfunc='count',index = 'Date Reported',  columns=['Summarized Offense Description'],)\ncols= by_day2.columns\nfor col in range(len(cols)):\n    by_day2[cols[col]] = np.int16(by_day2[cols[col]])\n\ntable_2 = by_day2.iloc[15:20,[1,36,4,46,38]] \n\n\n\ncolor_cycle = plt.rcParams['axes.color_cycle']\nfig, ax = plt.subplots(2, 1, figsize=(16, 8), sharex=True, sharey=True)\nn_groups = 5\nindex = np.arange(n_groups)\n\n\nbar_width = 0.35\nopacity = 0.4\nerror_config = {'ecolor': '0.3'}\n\n\nrects1 = ax[0].bar(index, convert_to_array(table_1,0),bar_width/2,alpha=opacity,label=table_1.columns[0])\nrects2 = ax[0].bar(index + bar_width/2, convert_to_array(table_1,1),bar_width/2,alpha=opacity,label=table_1.columns[1])  \nrects3 = ax[0].bar(index + bar_width, convert_to_array(table_1,2),bar_width/2,alpha=opacity,label=table_1.columns[2]) \nrects4 = ax[0].bar(index + bar_width + bar_width/2, convert_to_array(table_1,3),bar_width/2,alpha=opacity,label=table_1.columns[3]) \nrects5 = ax[0].bar(index + 2 * bar_width, convert_to_array(table_1,4),bar_width/2,alpha=opacity,label=table_1.columns[4]) \n\nax[0].set_xlabel('Incidents')\nax[0].set_ylabel('Scores')\nax[0].set_title('Incidents vs Time in San Francisco')\nax[0].set_xticks(index + bar_width / 5)\nax[0].set_xticklabels(('15:00', '16:00', '17:00', '18:00', '19:00'))\nax[0].legend()\n\n\nrects1 = ax[1].bar(index, convert_to_array(table_2,0),bar_width/2,alpha=opacity,label=table_1.columns[0])\nrects2 = ax[1].bar(index + bar_width/2,convert_to_array(table_2,1),bar_width/2,alpha=opacity,label=table_1.columns[1])  \nrects3 = ax[1].bar(index + bar_width, convert_to_array(table_2,2),bar_width/2,alpha=opacity,label=table_1.columns[2]) \nrects4 = ax[1].bar(index + bar_width + bar_width/2,convert_to_array(table_2,3),bar_width/2,alpha=opacity,label=table_1.columns[3]) \nrects5 = ax[1].bar(index + 2 * bar_width, convert_to_array(table_2,4),bar_width/2,alpha=opacity,label=table_1.columns[4]) \n\nax[1].set_xlabel('Incidents')\nax[1].set_ylabel('Scores')\nax[1].set_title('Incidents vs Time in Seatle')\nax[1].set_xticks(index + bar_width / 5)\nax[1].set_xticklabels(('15:00', '16:00', '17:00', '18:00', '19:00'))\nax[1].legend()\n\n\n\nfig.tight_layout()\nplt.show()\n  \n\nfig.savefig('figs/Question2.png', bbox_inches='tight')\n    \n\n",
      "execution_count": null,
      "outputs": []
    },
    {
      "metadata": {
        "_uuid": "5056007d3b2929365a9881d6413c83be133c34c5",
        "_cell_guid": "182af99c-c092-4f0d-b0ee-58d844e7d0fe",
        "collapsed": true,
        "trusted": false
      },
      "cell_type": "code",
      "source": "import sys\nimport numpy as np\nimport matplotlib.pyplot as plt\nfrom matplotlib.ticker import MaxNLocator\nfrom collections import namedtuple\nimport numpy as np\nimport pandas as pd \nimport sys\n\ndef convert_to_array_2(table,incident):\n    try:\n        col = 0\n        new_range = range(24)\n        array = [1,1,1,1,1,1,1,1,1,1,1,1,1,1,1,1,1,1,1,1,1,1,1,1]\n        for index in new_range:\n            array[col] = np.int16(table.iloc[index,incident])\n            col = col + 1\n        return array\n    except Exception as exception2:\n        print(\"Exception: {0}\".format(exception2))\n    finally:\n        print(\"Ended conversion.....\")\n\nprint(\"#############################################################################\")\nprint(\"QUESTION 3 - During what periods of the day are robberies most common\")\nprint(\"S.Francisco vs Seatle\")\nprint(\"#############################################################################\")\n\ntry:   \n    namefile_1 = \"../input/datainput1/sanfrancisco_incidents_summer_2014.csv\"\n    analysis_1 = pd.read_csv(namefile_1,  sep=',')\n    ind1 = pd.DatetimeIndex(analysis_1.Time)\n    analysis_1.Time = ind1.hour\n    \n    namefile_2 = \"../input/datainput2/seattle_incidents_summer_2014.csv\"\n    analysis_2 = pd.read_csv(namefile_2,  sep=',')\n    ind2 = pd.DatetimeIndex(analysis_2['Date Reported'])\n    analysis_2['Date Reported'] = ind2.hour\n    \nexcept Exception as exc:\n    print(\"Excepcion: {0}\".format(exc))\nfinally:\n    print(\"Data Format Conversion ......\")\n\n\n\nby_day1 = analysis_1.pivot_table(values = 'IncidntNum', aggfunc='count',index = 'Time',  columns=['Category'],)\ncols= by_day1.columns\nfor col in range(len(cols)):\n    by_day1[cols[col]] = np.int16(by_day1[cols[col]])\ntable_1 = by_day1.iloc[:,[1,23,3,33,26]] \n\nby_day2 = analysis_2.pivot_table(values = 'RMS CDW ID', aggfunc='count',index = 'Date Reported',  columns=['Summarized Offense Description'],)\ncols= by_day2.columns\nfor col in range(len(cols)):\n    by_day2[cols[col]] = np.int16(by_day2[cols[col]])\n\ntable_2 = by_day2.iloc[:,[1,36,4,46,38]] \n\n\n\n#print(table_1['ROBBERY'])\ny1 = convert_to_array_2(table_1,1)\ny2 = convert_to_array_2(table_2,1)\nx = table_1.index\n\n\nlabels = [\"ROBBERY in San Francisco \", \"ROBBERY in Seatle\"]\ncolor_cycle = plt.rcParams['axes.color_cycle']\nfig, ax = plt.subplots(1, 1, figsize=(16, 8), sharex=True, sharey=True)\nax.stackplot(x, y1, y2, labels=labels)\nax.legend(loc=2)\nplt.show()\n\nfig.savefig('figs/Question3.png', bbox_inches='tight')\n\n",
      "execution_count": null,
      "outputs": []
    },
    {
      "metadata": {
        "_uuid": "0573e4bbf82fc549ea684cdfa87039f5f920df40",
        "_cell_guid": "684179bc-ebff-453c-9a6b-01353128bf37",
        "collapsed": true,
        "trusted": false
      },
      "cell_type": "code",
      "source": "import sys\nimport numpy as np\nimport matplotlib.pyplot as plt\nfrom matplotlib.ticker import MaxNLocator\nfrom collections import namedtuple\nimport numpy as np\nimport pandas as pd \nimport sys\nfrom sklearn.decomposition import PCA\nprint(\"#############################################################################\")\nprint(\"QUESTION 4 - How do incidents vary by neighbourhood, which incidents are most\") \nprint(\"common in the city centre\")\nprint(\"S.Francisco vs Seatle\")\nprint(\"#############################################################################\")\n\ntry:   \n    namefile_1 = \"../input/datainput1/sanfrancisco_incidents_summer_2014.csv\"\n    analysis_1 = pd.read_csv(namefile_1,  sep=',')\n    ind1 = pd.DatetimeIndex(analysis_1.Time)\n    analysis_1.Time = ind1.hour\n    \n    namefile_2 = \"../input/datainput2/seattle_incidents_summer_2014.csv\"\n    analysis_2 = pd.read_csv(namefile_2,  sep=',')\n    ind2 = pd.DatetimeIndex(analysis_2['Date Reported'])\n    analysis_2['Date Reported'] = ind2.hour\n    \nexcept Exception as exc:\n    print(\"Excepcion: {0}\".format(exc))\nfinally:\n    print(\"Data Format Conversion ......\")\n\nfig, ax = plt.subplots()\n\nprint(analysis_1.columns)\n\nby_date1 = analysis_1.pivot_table(values = 'IncidntNum', aggfunc='count',index = 'Date',  columns=['X','Y'],)\ncols= by_date1.columns\n\n\n\n\ndata_pca = PCA.fit_transform(by_date1)\nprint(data_pca)\nby_date1['X'], by_date1['Y'] = data_pca.T\nby_date1['total rides'] = by_date1.sum(axis=1)\nby_date1.plot('X', 'Y', kind='scatter', c='total rides', cmap='Blues_r');\n\nplt.savefig('figs/Question_4.png', bbox_inches='tight')\n\nsys.exit(0)\n\nax.set_title(\"Incidents by Location in the city\")\nfig.savefig('figs/Question_4.png', bbox_inches='tight')\n\n\nfor i, ind in enumerate(joined.sort_values('X').index):\n    x, y = hourly.loc['Annual Member', ind][['X', 'Y']]\n    if i % 2:\n        ytext = 20 + 3 * i\n    else:\n        ytext = -8 - 4 * i\n    ax.annotate(joined.loc[ind, 'holiday name'], [x, y], [x , ytext], color='black',\n                ha='center', arrowprops=dict(arrowstyle='-', color='black'))\n    ax.scatter([x], [y], c='red')\n    \nfor holiday in (set(holidays) - set(joined['holiday name'])):\n    ind = holidays[holidays == holiday].index[0]\n    #ind = ind.strftime('%Y-%m-%d')\n    x, y = hourly.loc['Annual Member', ind][['X', 'Y']]\n    ax.annotate(holidays.loc[ind], [x, y], [x + 20, y + 30], color='black',\n                ha='center', arrowprops=dict(arrowstyle='-', color='black'))\n    ax.scatter([x], [y], c='#00FF00')\n\nax.set_xlim([-60, 60])\nax.set_ylim([-60, 60])\n\nfig.savefig('figs/Question_4.png', bbox_inches='tight')",
      "execution_count": null,
      "outputs": []
    },
    {
      "metadata": {
        "_uuid": "dd18ff255cca439a03da30085cd81373dde8a095",
        "_cell_guid": "8b54f7d3-9b9c-47e9-b390-096554a2436b",
        "collapsed": true,
        "trusted": false
      },
      "cell_type": "code",
      "source": "import numpy as np # linear algebra\nimport pandas as pd\nimport matplotlib.pyplot as plt\nimport seaborn as sns; sns.set()\nimport time\nimport sys\nprint(\"#############################################################################\")\nprint(\"QUESTION 5 - How do incidents vary month to month in the Summer 2014 dataset\")\nprint(\"S.Francisco vs Seatle\")\nprint(\"#############################################################################\")\n\nnamefile_1 = \"../input/datainput1/sanfrancisco_incidents_summer_2014.csv\"\nanalysis_1 = pd.read_csv(namefile_1,  sep=',')\n\n\ntry:   \n    ind = pd.DatetimeIndex(analysis_1.Date)\n    analysis_1['Date'] = ind.date.astype('datetime64')\n    analysis_1['Time'] = ind.hour\nexcept Exception as exc:\n    print(\"Excepcion: {0}\".format(exc))\nfinally:\n    print(\"Data Format Conversion ......\")\n\n \nby_date1 = analysis_1.pivot_table(values = 'IncidntNum', aggfunc='count',index = 'Date',  columns=['Category'],)\ncols= by_date1.columns\n\nfor col in range(len(cols)):\n    by_date1[cols[col]] = np.int16( by_date1[cols[col]])\n\n\nnamefile_2 = \"../input/datainput2/seattle_incidents_summer_2014.csv\"\nanalysis_2 = pd.read_csv(namefile_2,  sep=',')\n\ntry:   \n    ind = pd.DatetimeIndex(analysis_2['Date Reported'])\n    analysis_2['Date Reported'] = ind.date.astype('datetime64')\nexcept Exception as exc:\n    print(\"Excepcion: {0}\".format(exc))\nfinally:\n    print(\"Data Format Conversion ......\")\n\n    \n\nby_date2 = analysis_2.pivot_table(values = 'RMS CDW ID', aggfunc='count',index = 'Date Reported',  columns=['Summarized Offense Description'],)\ncols= by_date2.columns\nfor col in range(len(cols)):\n    by_date2[cols[col]] = np.int16( by_date2[cols[col]])\n    \nby_date2_final = by_date2['06-2014':'09-2014']\nby_date1_final = by_date1['06-2014':'09-2014']\n\ntry:\n    \n    \n    table_1 = by_date1_final.iloc[:,[1,23,3,33,26]] \n    table_2 = by_date2_final.iloc[:,[1,36,4,46,38]]\n    \nexcept Exception as exception1:\n    print(\"Exception: {0}\".format(exception1))\n\n\ntry:    \n    color_cycle = plt.rcParams['axes.color_cycle']\n    fig, ax = plt.subplots(2, 1, figsize=(16, 8), sharex=True, sharey=True)\n    table_1.iloc[:, :5].plot(ax=ax[0],title='Incidents in San Francisco in 2014 Summer');\n    table_2.iloc[:, :5].plot(ax=ax[1],title='Incidents in Seatle in 2014 Summer');\n    fig.savefig('figs/Question5.png', bbox_inches='tight')    \n    \nexcept Exception as exception1:\n    print(\"Graphical plot exception: {0}\".format(exception1))\nfinally:\n    print(\"Results:\")\n    \n    ",
      "execution_count": null,
      "outputs": []
    }
  ],
  "metadata": {
    "language_info": {
      "mimetype": "text/x-python",
      "pygments_lexer": "ipython3",
      "nbconvert_exporter": "python",
      "file_extension": ".py",
      "codemirror_mode": {
        "version": 3,
        "name": "ipython"
      },
      "name": "python",
      "version": "3.6.3"
    },
    "kernelspec": {
      "display_name": "Python 3",
      "language": "python",
      "name": "python3"
    }
  },
  "nbformat": 4,
  "nbformat_minor": 1
}